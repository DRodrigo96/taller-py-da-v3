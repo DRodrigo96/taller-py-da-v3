{
 "cells": [
  {
   "cell_type": "markdown",
   "metadata": {},
   "source": [
    "# Taller Python\n",
    "## Python for Exploratory Data Analysis"
   ]
  },
  {
   "cell_type": "markdown",
   "metadata": {},
   "source": [
    "## 1. Modules"
   ]
  },
  {
   "cell_type": "code",
   "execution_count": null,
   "metadata": {},
   "outputs": [],
   "source": [
    "# requirements\n",
    "import pandas as pd\n",
    "import numpy as np\n",
    "import matplotlib.pyplot as plt\n",
    "import seaborn as sns\n",
    "import missingno\n",
    "import geopandas as gpd\n",
    "import geoplot as gplt\n",
    "from geopy import distance\n",
    "import mapclassify as mc\n",
    "# common\n",
    "import os\n",
    "from pathlib import Path\n",
    "from ast import literal_eval\n",
    "# user defined\n",
    "from modules.utils import percentPlot\n",
    "from modules.utils import km_bpoints\n",
    "\n",
    "# settings\n",
    "colors = [\n",
    "    '#00AF66',\n",
    "    '#F0BE32',\n",
    "    '#DB4437',\n",
    "    '#CCCCCC',\n",
    "    '#4285F4',\n",
    "    '#8E6495',\n",
    "    '#FF7C55'\n",
    "]\n",
    "\n",
    "os.chdir(r'../')\n",
    "Path('temp').mkdir(parents=True, exist_ok=True)\n",
    "\n",
    "pd.set_option('display.float_format', lambda x: '%.3f' % x)\n",
    "\n",
    "sns.set_theme()\n",
    "sns.set_palette(sns.color_palette(colors))"
   ]
  },
  {
   "cell_type": "markdown",
   "metadata": {},
   "source": [
    "## 2. Data inspection"
   ]
  },
  {
   "cell_type": "markdown",
   "metadata": {},
   "source": [
    "### 2.1. Pandas"
   ]
  },
  {
   "cell_type": "markdown",
   "metadata": {},
   "source": [
    "#### 2.1.1. pandas.DataFrame.info\n",
    "\n",
    "+ *Información básica sobre dataframe*"
   ]
  },
  {
   "cell_type": "code",
   "execution_count": null,
   "metadata": {},
   "outputs": [],
   "source": [
    "df_casas = pd.read_csv('./data/casas_data.csv', delimiter=';')\n",
    "df_casas.info()"
   ]
  },
  {
   "cell_type": "markdown",
   "metadata": {},
   "source": [
    "#### 2.1.2. pandas.DataFrame.head\n",
    "\n",
    "+ *Primeras filas del dataframe*"
   ]
  },
  {
   "cell_type": "code",
   "execution_count": null,
   "metadata": {},
   "outputs": [],
   "source": [
    "df_casas.head(5)"
   ]
  },
  {
   "cell_type": "markdown",
   "metadata": {},
   "source": [
    "### 2.2. Geopandas\n",
    "\n",
    "+ *Manipulación de datos georrefenciados*"
   ]
  },
  {
   "cell_type": "markdown",
   "metadata": {},
   "source": [
    "#### 2.2.1. geopandas.GeoDataFrame"
   ]
  },
  {
   "cell_type": "code",
   "execution_count": null,
   "metadata": {},
   "outputs": [],
   "source": [
    "geoData = gpd.GeoDataFrame(\n",
    "    df_casas.copy(),\n",
    "    geometry=gpd.points_from_xy(df_casas['longitud'], df_casas['latitud'])\n",
    ")\n",
    "geoData.head(3)"
   ]
  },
  {
   "cell_type": "markdown",
   "metadata": {},
   "source": [
    "#### 2.2.2. geopandas.GeoDataFrame.plot\n",
    "\n",
    "+ *Integración con shapefiles*"
   ]
  },
  {
   "cell_type": "code",
   "execution_count": null,
   "metadata": {},
   "outputs": [],
   "source": [
    "shp_peru = gpd.read_file('./data/shapefiles/DISTRITOS.shp')\n",
    "shp_peru['IDDIST'] = shp_peru['IDDIST'].astype('int')\n",
    "\n",
    "shp_peru.plot(figsize=(15,15))"
   ]
  },
  {
   "cell_type": "markdown",
   "metadata": {},
   "source": [
    "### 2.3. Main dataset"
   ]
  },
  {
   "cell_type": "markdown",
   "metadata": {},
   "source": [
    "#### 2.3.1. Filtros\n",
    "\n",
    "+ *Solo Lima Metropolitana y Callao (50 distritos)*"
   ]
  },
  {
   "cell_type": "code",
   "execution_count": null,
   "metadata": {},
   "outputs": [],
   "source": [
    "lima_shp_filter = (shp_peru['DEPARTAMEN'] == 'LIMA') & (shp_peru['PROVINCIA'] == 'LIMA')\n",
    "callao_shp_filter = (shp_peru['DEPARTAMEN'] == 'CALLAO')\n",
    "\n",
    "shp_lima = shp_peru[lima_shp_filter | callao_shp_filter]\n",
    "\n",
    "print('Number distritos:', len(shp_lima['IDDIST'].unique()))"
   ]
  },
  {
   "cell_type": "markdown",
   "metadata": {},
   "source": [
    "#### 2.3.2. Dataset de trabajo"
   ]
  },
  {
   "cell_type": "code",
   "execution_count": null,
   "metadata": {},
   "outputs": [],
   "source": [
    "escala = 100*(geoData['precio_soles']/geoData['precio_soles'].mean())\n",
    "scheme = mc.Quantiles(geoData['precio_soles'], k=5)\n",
    "\n",
    "ax = gplt.polyplot(\n",
    "    shp_lima,\n",
    "    zorder=-1,\n",
    "    linewidth=1,\n",
    "    edgecolor='white',\n",
    "    facecolor='lightgray',\n",
    "    figsize=(12, 12)\n",
    ")\n",
    "gplt.pointplot(\n",
    "    geoData, \n",
    "    ax=ax, \n",
    "    hue='precio_soles', \n",
    "    scale=escala, \n",
    "    scheme=scheme, \n",
    "    limits=(1, 15),\n",
    "    cmap='inferno_r'\n",
    "\n",
    ")\n",
    "\n",
    "plt.show()"
   ]
  },
  {
   "cell_type": "markdown",
   "metadata": {},
   "source": [
    "## 3. EDA"
   ]
  },
  {
   "cell_type": "markdown",
   "metadata": {},
   "source": [
    "### 3.1. Parte 1: corrección de datos\n",
    "\n",
    "+ *Limpieza y transformaciones previas*"
   ]
  },
  {
   "cell_type": "code",
   "execution_count": null,
   "metadata": {},
   "outputs": [],
   "source": [
    "df_transf = df_casas.copy()\n",
    "df_transf.head(3)"
   ]
  },
  {
   "cell_type": "markdown",
   "metadata": {},
   "source": [
    "#### 3.1.1. Missing data"
   ]
  },
  {
   "cell_type": "markdown",
   "metadata": {},
   "source": [
    "##### a. Check con Pandas"
   ]
  },
  {
   "cell_type": "markdown",
   "metadata": {},
   "source": [
    "+ **Columnas con valores missing**"
   ]
  },
  {
   "cell_type": "code",
   "execution_count": null,
   "metadata": {},
   "outputs": [],
   "source": [
    "for x in df_transf.columns[df_transf.isnull().any()]:\n",
    "    print(x)"
   ]
  },
  {
   "cell_type": "markdown",
   "metadata": {},
   "source": [
    "+ **Número de valores missing por columna**"
   ]
  },
  {
   "cell_type": "code",
   "execution_count": null,
   "metadata": {},
   "outputs": [],
   "source": [
    "df_transf.isna().sum()"
   ]
  },
  {
   "cell_type": "markdown",
   "metadata": {},
   "source": [
    "+ **Validar campos \"object\"**"
   ]
  },
  {
   "cell_type": "code",
   "execution_count": null,
   "metadata": {},
   "outputs": [],
   "source": [
    "df_transf.info()"
   ]
  },
  {
   "cell_type": "code",
   "execution_count": null,
   "metadata": {},
   "outputs": [],
   "source": [
    "empty_string = ''\n",
    "print(empty_string is None)"
   ]
  },
  {
   "cell_type": "code",
   "execution_count": null,
   "metadata": {},
   "outputs": [],
   "source": [
    "# > ajuste para un campo \"object\"\n",
    "df_transf['PROVINCIA'] = df_transf['PROVINCIA'].fillna('NE')\n",
    "df_transf['PROVINCIA'] = df_transf['PROVINCIA'].replace('', 'NE')\n",
    "\n",
    "df_transf['PROVINCIA'].isna().sum()"
   ]
  },
  {
   "cell_type": "code",
   "execution_count": null,
   "metadata": {},
   "outputs": [],
   "source": [
    "# > para un campos \"object\"\n",
    "obj_col = ['PROVINCIA', 'DISTRITO', 'estado_de_inmueble']\n",
    "for c in obj_col:\n",
    "    df_transf[c] = df_transf[c].fillna('NE')\n",
    "    df_transf[c] = df_transf[c].replace('', 'NE')\n",
    "\n",
    "df_transf.isna().sum()"
   ]
  },
  {
   "cell_type": "markdown",
   "metadata": {},
   "source": [
    "##### b. Missingno\n",
    "\n",
    "+ *Visualizar missings*"
   ]
  },
  {
   "cell_type": "code",
   "execution_count": null,
   "metadata": {},
   "outputs": [],
   "source": [
    "df_test = pd.read_csv('./data/test_missingno.csv', delimiter=';')\n",
    "missingno.matrix(df_test)"
   ]
  },
  {
   "cell_type": "code",
   "execution_count": null,
   "metadata": {},
   "outputs": [],
   "source": [
    "missingno.matrix(df_test.sort_values(by='consent'))\n",
    "# del df_test"
   ]
  },
  {
   "cell_type": "markdown",
   "metadata": {},
   "source": [
    "#### 3.1.2. Limpieza de columnas"
   ]
  },
  {
   "cell_type": "markdown",
   "metadata": {},
   "source": [
    "##### a. Inconsistencias campo-tipo de dato\n",
    "\n",
    "+ *Validar match entre naturaleza del campo y tipo de dato*"
   ]
  },
  {
   "cell_type": "code",
   "execution_count": null,
   "metadata": {},
   "outputs": [],
   "source": [
    "df_transf.info()"
   ]
  },
  {
   "cell_type": "code",
   "execution_count": null,
   "metadata": {},
   "outputs": [],
   "source": [
    "# > detail\n",
    "df_transf['nro_dormitorios'].unique()"
   ]
  },
  {
   "cell_type": "code",
   "execution_count": null,
   "metadata": {},
   "outputs": [],
   "source": [
    "# > ajuste en tipo de dato\n",
    "df_transf['nro_dormitorios'] = df_transf['nro_dormitorios'].str.extract(r'(\\d+)')\n",
    "df_transf['nro_dormitorios'] = df_transf['nro_dormitorios'].astype('int')"
   ]
  },
  {
   "cell_type": "code",
   "execution_count": null,
   "metadata": {},
   "outputs": [],
   "source": [
    "# > campo ajustado\n",
    "df_transf['nro_dormitorios'].unique()"
   ]
  },
  {
   "cell_type": "markdown",
   "metadata": {},
   "source": [
    "##### b. Inconsistencias según campo (variables cuantitativas)\n",
    "\n",
    "+ *Validar match entre naturaleza del campo y valor*"
   ]
  },
  {
   "cell_type": "code",
   "execution_count": null,
   "metadata": {},
   "outputs": [],
   "source": [
    "df_transf.describe()"
   ]
  },
  {
   "cell_type": "markdown",
   "metadata": {},
   "source": [
    "#### 3.1.3. Transformaciones previas\n",
    "\n",
    "+ *Transformaciones para antes de análisis*"
   ]
  },
  {
   "cell_type": "markdown",
   "metadata": {},
   "source": [
    "##### a. Dummies sobre variables cualitativas"
   ]
  },
  {
   "cell_type": "code",
   "execution_count": null,
   "metadata": {},
   "outputs": [],
   "source": [
    "# > columnas cualitativas\n",
    "qual_cols = obj_col[:]\n",
    "print(qual_cols)"
   ]
  },
  {
   "cell_type": "code",
   "execution_count": null,
   "metadata": {},
   "outputs": [],
   "source": [
    "# > save columnas cualitativas\n",
    "for c in qual_cols:\n",
    "    print(c, '-->', len(df_transf[c].unique()))\n",
    "    df_transf[c + '_'] = df_transf[c]\n",
    "\n",
    "df_transf.info()"
   ]
  },
  {
   "cell_type": "code",
   "execution_count": null,
   "metadata": {},
   "outputs": [],
   "source": [
    "# > get dummies\n",
    "df_transf = pd.get_dummies(df_transf, columns=qual_cols, drop_first=False)"
   ]
  },
  {
   "cell_type": "code",
   "execution_count": null,
   "metadata": {},
   "outputs": [],
   "source": [
    "# > after get dummies\n",
    "print(df_transf.shape)\n",
    "df_transf.head(3)"
   ]
  },
  {
   "cell_type": "markdown",
   "metadata": {},
   "source": [
    "#### 3.1.4. Saving cleaned dataset\n",
    "\n",
    "+ *Guardado de datos para análisis en segunda parte de EDA*"
   ]
  },
  {
   "cell_type": "code",
   "execution_count": null,
   "metadata": {},
   "outputs": [],
   "source": [
    "df_transf.to_csv('./temp/data_cleaned.csv', index=False)\n",
    "# del df_casas; del df_transf"
   ]
  },
  {
   "cell_type": "markdown",
   "metadata": {},
   "source": [
    "### 3.2. Parte 2: EDA"
   ]
  },
  {
   "cell_type": "code",
   "execution_count": null,
   "metadata": {},
   "outputs": [],
   "source": [
    "# > import cleaned data\n",
    "df_clean = pd.read_csv('./temp/data_cleaned.csv').set_index('IDDIST')\n",
    "\n",
    "print(df_clean.shape)\n",
    "df_clean.head(3)"
   ]
  },
  {
   "cell_type": "code",
   "execution_count": null,
   "metadata": {},
   "outputs": [],
   "source": [
    "# > cleaned dataframe shape\n",
    "df_clean.shape"
   ]
  },
  {
   "cell_type": "code",
   "execution_count": null,
   "metadata": {},
   "outputs": [],
   "source": [
    "# > null values\n",
    "df_clean.isna().sum().sum()"
   ]
  },
  {
   "cell_type": "markdown",
   "metadata": {},
   "source": [
    "#### 3.2.1. Variables cuantitativas"
   ]
  },
  {
   "cell_type": "markdown",
   "metadata": {},
   "source": [
    "##### a. Estadísticos"
   ]
  },
  {
   "cell_type": "code",
   "execution_count": null,
   "metadata": {},
   "outputs": [],
   "source": [
    "quan_cols = [\n",
    "    'antiguedad',\n",
    "    'nro_banios',\n",
    "    'nro_pisos',\n",
    "    'nro_cocheras',\n",
    "    'nro_dormitorios',\n",
    "    'precio_soles',\n",
    "    'area_constr_m2',\n",
    "    'area_total_m2'\n",
    "]\n",
    "\n",
    "df_clean[quan_cols].describe()"
   ]
  },
  {
   "cell_type": "markdown",
   "metadata": {},
   "source": [
    "##### b. Distribuciones"
   ]
  },
  {
   "cell_type": "code",
   "execution_count": null,
   "metadata": {},
   "outputs": [],
   "source": [
    "g = sns.PairGrid(\n",
    "    df_clean[quan_cols].reset_index(drop=True),\n",
    "    diag_sharey=False,\n",
    ")\n",
    "g.map_diag(sns.kdeplot)\n",
    "g.map_upper(sns.scatterplot, markers='.', s=5)\n",
    "g.map_lower(sns.regplot, scatter=False, line_kws={'linewidth':1})\n",
    "g.add_legend()\n",
    "plt.show()"
   ]
  },
  {
   "cell_type": "markdown",
   "metadata": {},
   "source": [
    "##### c. Outliers"
   ]
  },
  {
   "cell_type": "code",
   "execution_count": null,
   "metadata": {},
   "outputs": [],
   "source": [
    "fig, ax = plt.subplots(2, 4, figsize=(20, 10), sharex=True)\n",
    "\n",
    "# 1) antiguedad\n",
    "sns.boxplot(y=quan_cols[0], data=df_clean, ax=ax[0,0])\n",
    "# 2) nro_banios\n",
    "sns.boxplot(y=quan_cols[1], data=df_clean, ax=ax[0,1])\n",
    "# 3) nro_pisos\n",
    "sns.boxplot(y=quan_cols[2], data=df_clean, ax=ax[0,2])\n",
    "# 4) nro_cocheras\n",
    "sns.boxplot(y=quan_cols[3], data=df_clean, ax=ax[0,3])\n",
    "# 5) nro_dormitorios\n",
    "sns.boxplot(y=quan_cols[4], data=df_clean, ax=ax[1,0])\n",
    "# 6) precio_soles\n",
    "sns.boxplot(y=quan_cols[5], data=df_clean, ax=ax[1,1])\n",
    "# 7) area_constr_m2\n",
    "sns.boxplot(y=quan_cols[6], data=df_clean, ax=ax[1,2])\n",
    "# 8) area_total_m2\n",
    "sns.boxplot(y=quan_cols[7], data=df_clean, ax=ax[1,3])\n",
    "\n",
    "plt.show()"
   ]
  },
  {
   "cell_type": "markdown",
   "metadata": {},
   "source": [
    "#### 3.2.2. Variables cualitativas"
   ]
  },
  {
   "cell_type": "code",
   "execution_count": null,
   "metadata": {},
   "outputs": [],
   "source": [
    "qual_cols = ['PROVINCIA_', 'DISTRITO_', 'estado_de_inmueble_']\n",
    "df_clean[qual_cols].head(5)"
   ]
  },
  {
   "cell_type": "markdown",
   "metadata": {},
   "source": [
    "##### a. Distribution variables cualitativas"
   ]
  },
  {
   "cell_type": "code",
   "execution_count": null,
   "metadata": {},
   "outputs": [],
   "source": [
    "# PROVINCIA_\n",
    "df_clean['PROVINCIA_'].value_counts(normalize=True)"
   ]
  },
  {
   "cell_type": "code",
   "execution_count": null,
   "metadata": {},
   "outputs": [],
   "source": [
    "# > DISTRITO_ (solo representacion 1% a mas)\n",
    "(y := df_clean['DISTRITO_'].value_counts(normalize=True))[y > 0.050]"
   ]
  },
  {
   "cell_type": "code",
   "execution_count": null,
   "metadata": {},
   "outputs": [],
   "source": [
    "# estado_de_inmueble_\n",
    "df_clean['estado_de_inmueble_'].value_counts(normalize=True)"
   ]
  },
  {
   "cell_type": "markdown",
   "metadata": {},
   "source": [
    "+ **Visualmente**"
   ]
  },
  {
   "cell_type": "code",
   "execution_count": null,
   "metadata": {},
   "outputs": [],
   "source": [
    "ytitle = 'Porcentaje'\n",
    "fig, ax = plt.subplots(2, 2, figsize=(15, 10))\n",
    "\n",
    "# 1) PROVINCIA_\n",
    "percentPlot.seaPlot(df_clean, 'PROVINCIA_', ytitle, ax=ax[0,0])\n",
    "# 2) nro_dormitorios_\n",
    "percentPlot.seaPlot(df_clean, 'nro_dormitorios', ytitle, ax=ax[0,1])\n",
    "# 3) estado_de_inmueble_\n",
    "percentPlot.seaPlot(df_clean, 'estado_de_inmueble_', ytitle, ax=ax[1,0], palette=colors)\n",
    "# 4) DISTRITO_\n",
    "percentPlot.seaPlot(df_clean, 'DISTRITO_', ytitle, ax=ax[1,1], palette=colors)\n",
    "\n",
    "ax[1,1].set_xticklabels([])\n",
    "ax[1,0].set_xticklabels([])\n",
    "\n",
    "plt.show()"
   ]
  },
  {
   "cell_type": "markdown",
   "metadata": {},
   "source": [
    "##### b. Cross-tabulation"
   ]
  },
  {
   "cell_type": "code",
   "execution_count": null,
   "metadata": {},
   "outputs": [],
   "source": [
    "df_clean['PROVINCIA_'].value_counts()"
   ]
  },
  {
   "cell_type": "code",
   "execution_count": null,
   "metadata": {},
   "outputs": [],
   "source": [
    "# > count\n",
    "pd.crosstab(df_clean['PROVINCIA_'], df_clean['estado_de_inmueble_'])"
   ]
  },
  {
   "cell_type": "code",
   "execution_count": null,
   "metadata": {},
   "outputs": [],
   "source": [
    "# > relativo horizontalmente\n",
    "pd.crosstab(df_clean['PROVINCIA_'], df_clean['estado_de_inmueble_'], normalize='index')"
   ]
  },
  {
   "cell_type": "code",
   "execution_count": null,
   "metadata": {},
   "outputs": [],
   "source": [
    "# > relativo verticalmente\n",
    "pd.crosstab(df_clean['PROVINCIA_'], df_clean['estado_de_inmueble_'], normalize='columns')"
   ]
  },
  {
   "cell_type": "markdown",
   "metadata": {},
   "source": [
    "##### b. Cruce variables-cuantitativas"
   ]
  },
  {
   "cell_type": "code",
   "execution_count": null,
   "metadata": {},
   "outputs": [],
   "source": [
    "# > un agrupamiento\n",
    "df_clean.groupby(['PROVINCIA_'], axis=0).agg({'antiguedad': ['mean', 'count'], 'precio_soles': [np.max, np.min]})"
   ]
  },
  {
   "cell_type": "code",
   "execution_count": null,
   "metadata": {},
   "outputs": [],
   "source": [
    "# > doble agrupamiento\n",
    "df_clean.groupby(['PROVINCIA_', 'estado_de_inmueble_'], axis=0).agg({'antiguedad': ['mean', 'count'], 'precio_soles': [np.median, np.min]})"
   ]
  },
  {
   "cell_type": "markdown",
   "metadata": {},
   "source": [
    "+ **Visualmente**"
   ]
  },
  {
   "cell_type": "code",
   "execution_count": null,
   "metadata": {},
   "outputs": [],
   "source": [
    "sns.catplot(\n",
    "    x='precio_soles',\n",
    "    y='estado_de_inmueble_',\n",
    "    kind='box',\n",
    "    orient='h',\n",
    "    height=18,\n",
    "    palette=colors,\n",
    "    data=df_clean\n",
    ")\n",
    "plt.show()"
   ]
  },
  {
   "cell_type": "markdown",
   "metadata": {},
   "source": [
    "#### 3.2.3. Correlation"
   ]
  },
  {
   "cell_type": "markdown",
   "metadata": {},
   "source": [
    "##### a. Correlación entre features"
   ]
  },
  {
   "cell_type": "code",
   "execution_count": null,
   "metadata": {},
   "outputs": [],
   "source": [
    "# > values\n",
    "cmatrixt = df_clean.drop('precio_soles', axis=1).corr().abs()\n",
    "cmatrixt.head()"
   ]
  },
  {
   "cell_type": "code",
   "execution_count": null,
   "metadata": {},
   "outputs": [],
   "source": [
    "# > correlation plot\n",
    "plt.figure(figsize=(20, 10))\n",
    "heatmap = sns.heatmap(cmatrixt.iloc[1:], vmin=0, vmax=1, cmap='viridis')\n",
    "heatmap.set_title('Correlation between features', fontdict={'fontsize':18}, pad=16)\n",
    "plt.show()"
   ]
  },
  {
   "cell_type": "markdown",
   "metadata": {},
   "source": [
    "##### b. Correlación entre target y features"
   ]
  },
  {
   "cell_type": "code",
   "execution_count": null,
   "metadata": {},
   "outputs": [],
   "source": [
    "# > values\n",
    "cmatrix = df_clean.corr()[['precio_soles']].abs().sort_values(by='precio_soles', ascending=False)\n",
    "cmatrix = cmatrix[cmatrix['precio_soles'] > 0.10]\n",
    "cmatrix.head()"
   ]
  },
  {
   "cell_type": "code",
   "execution_count": null,
   "metadata": {},
   "outputs": [],
   "source": [
    "# > correlation plot\n",
    "plt.figure(figsize=(7, 10))\n",
    "heatmap = sns.heatmap(cmatrix.iloc[1:], vmin=0, vmax=1, annot=True, cmap='viridis')\n",
    "heatmap.set_title('Correlation between price and features', fontdict={'fontsize':18}, pad=16)\n",
    "plt.show()"
   ]
  },
  {
   "cell_type": "markdown",
   "metadata": {},
   "source": [
    "#### 3.2.4. Feature engineering"
   ]
  },
  {
   "cell_type": "markdown",
   "metadata": {},
   "source": [
    "##### a. External coordenadas"
   ]
  },
  {
   "cell_type": "code",
   "execution_count": null,
   "metadata": {},
   "outputs": [],
   "source": [
    "main_p = pd.read_csv('./data/main_points.csv', delimiter=';').set_index('IDDIST')\n",
    "\n",
    "main_p['mp_m'] = main_p['mp_m'].apply(literal_eval)\n",
    "main_p['mp_c'] = main_p['mp_c'].apply(literal_eval)\n",
    "\n",
    "main_p[['mp_m_x', 'mp_m_y']] = pd.DataFrame(main_p['mp_m'].to_list(), index=main_p.index)\n",
    "main_p[['mp_c_x', 'mp_c_y']] = pd.DataFrame(main_p['mp_c'].to_list(), index=main_p.index)\n",
    "\n",
    "main_p.head()"
   ]
  },
  {
   "cell_type": "markdown",
   "metadata": {},
   "source": [
    "##### b. Joins"
   ]
  },
  {
   "cell_type": "markdown",
   "metadata": {},
   "source": [
    "+ *Presencia de campo en común*"
   ]
  },
  {
   "cell_type": "code",
   "execution_count": null,
   "metadata": {},
   "outputs": [],
   "source": [
    "# > temporal dataframes\n",
    "tmp_df_clean = df_clean.copy().reset_index()\n",
    "tmp_main_p = main_p.copy().reset_index()\n",
    "\n",
    "tmp_campos = ['IDDIST', 'latitud', 'longitud', 'precio_soles']"
   ]
  },
  {
   "cell_type": "markdown",
   "metadata": {},
   "source": [
    "+ **Por campos específicas**"
   ]
  },
  {
   "cell_type": "code",
   "execution_count": null,
   "metadata": {},
   "outputs": [],
   "source": [
    "tmp_df_clean[tmp_campos].merge(tmp_main_p, how='inner', left_on='IDDIST', right_on='IDDIST').head()"
   ]
  },
  {
   "cell_type": "markdown",
   "metadata": {},
   "source": [
    "+ **Por campo en común**"
   ]
  },
  {
   "cell_type": "code",
   "execution_count": null,
   "metadata": {},
   "outputs": [],
   "source": [
    "tmp_df_clean[tmp_campos].merge(tmp_main_p, how='inner', on='IDDIST').head()"
   ]
  },
  {
   "cell_type": "markdown",
   "metadata": {},
   "source": [
    "+ **Por campo en común y sufijos**"
   ]
  },
  {
   "cell_type": "code",
   "execution_count": null,
   "metadata": {},
   "outputs": [],
   "source": [
    "pd.merge(tmp_df_clean[tmp_campos], tmp_main_p, how='inner', on='IDDIST', suffixes=('_izq', '_der')).head()"
   ]
  },
  {
   "cell_type": "code",
   "execution_count": null,
   "metadata": {},
   "outputs": [],
   "source": [
    "print(df_clean.index.name, '---', main_p.index.name)"
   ]
  },
  {
   "cell_type": "code",
   "execution_count": null,
   "metadata": {},
   "outputs": [],
   "source": [
    "df_coor = df_clean[['latitud', 'longitud', 'precio_soles']].join(main_p)\n",
    "df_coor.reset_index(inplace=True)\n",
    "\n",
    "df_coor.head()"
   ]
  },
  {
   "cell_type": "markdown",
   "metadata": {},
   "source": [
    "+ **Visualmente**"
   ]
  },
  {
   "cell_type": "code",
   "execution_count": null,
   "metadata": {},
   "outputs": [],
   "source": [
    "# > geodataframes\n",
    "geoData_clean = gpd.GeoDataFrame(\n",
    "    df_coor.copy(),\n",
    "    geometry=gpd.points_from_xy(df_coor['longitud'], df_coor['latitud'])\n",
    ")\n",
    "geoData_main_m = gpd.GeoDataFrame(\n",
    "    df_coor.copy(),\n",
    "    geometry=gpd.points_from_xy(df_coor['mp_m_y'], df_coor['mp_m_x'])\n",
    ")\n",
    "geoData_main_c = gpd.GeoDataFrame(\n",
    "    df_coor.copy(),\n",
    "    geometry=gpd.points_from_xy(df_coor['mp_c_y'], df_coor['mp_c_x'])\n",
    ")\n",
    "\n",
    "# > scale points\n",
    "escala = 100*(geoData_clean['precio_soles']/geoData_clean['precio_soles'].mean())\n",
    "scheme = mc.Quantiles(geoData_clean['precio_soles'], k=5)\n",
    "\n",
    "# > geoplots\n",
    "ax = gplt.polyplot(\n",
    "    shp_lima,\n",
    "    zorder=-1,\n",
    "    linewidth=1,\n",
    "    edgecolor='white',\n",
    "    facecolor='lightgray',\n",
    "    figsize=(20, 20)\n",
    ")\n",
    "gplt.pointplot(\n",
    "    geoData_clean, \n",
    "    ax=ax,\n",
    "    hue='precio_soles', \n",
    "    scale=escala, \n",
    "    scheme=scheme, \n",
    "    cmap='inferno_r',\n",
    ")\n",
    "gplt.pointplot(\n",
    "    geoData_main_m, \n",
    "    ax=ax,\n",
    "    s=7\n",
    ")\n",
    "gplt.pointplot(\n",
    "    geoData_main_c, \n",
    "    ax=ax,\n",
    "    s=7\n",
    ")\n",
    "plt.show()"
   ]
  },
  {
   "cell_type": "markdown",
   "metadata": {},
   "source": [
    "##### c. Distancia entre coordenadas"
   ]
  },
  {
   "cell_type": "markdown",
   "metadata": {},
   "source": [
    "+ **Geopy distance**"
   ]
  },
  {
   "cell_type": "code",
   "execution_count": null,
   "metadata": {},
   "outputs": [],
   "source": [
    "np_lon_lat = df_coor[['latitud', 'longitud']].values.tolist()\n",
    "np_mpm = df_coor['mp_m'].values.tolist()\n",
    "np_mpc = df_coor['mp_c'].values.tolist()"
   ]
  },
  {
   "cell_type": "code",
   "execution_count": null,
   "metadata": {},
   "outputs": [],
   "source": [
    "# => casa de ejemplo\n",
    "print('distance casa-mun:', distance.distance(np_mpm[-1], np_lon_lat[-1]).km)\n",
    "print('distance casa-com:', distance.distance(np_mpc[-1], np_lon_lat[-1]).km)\n",
    "\n",
    "print('casa en venta....:', np_lon_lat[-1])\n",
    "print('municipalidad....:', np_mpm[-1])\n",
    "print('estacion.........:', np_mpc[-1])"
   ]
  },
  {
   "cell_type": "markdown",
   "metadata": {},
   "source": [
    "+ **Campo distancia**"
   ]
  },
  {
   "cell_type": "code",
   "execution_count": null,
   "metadata": {},
   "outputs": [],
   "source": [
    "df_coor['km_m'] = km_bpoints(df_coor, point_xy='mp_m', lon_column='longitud', lat_column='latitud')\n",
    "df_coor['km_c'] = km_bpoints(df_coor, point_xy='mp_c', lon_column='longitud', lat_column='latitud')"
   ]
  },
  {
   "cell_type": "code",
   "execution_count": null,
   "metadata": {},
   "outputs": [],
   "source": [
    "df_coor.head(5)"
   ]
  },
  {
   "cell_type": "markdown",
   "metadata": {},
   "source": [
    "## 4. Model development inputs"
   ]
  },
  {
   "cell_type": "markdown",
   "metadata": {},
   "source": [
    "### 4.1. Main points saving"
   ]
  },
  {
   "cell_type": "code",
   "execution_count": null,
   "metadata": {},
   "outputs": [],
   "source": [
    "# > distritos match data casas\n",
    "print(len(main_p.index))\n",
    "print(len(df_clean.index.unique()))\n",
    "main_p[['mp_m', 'mp_c']].head()"
   ]
  },
  {
   "cell_type": "code",
   "execution_count": null,
   "metadata": {},
   "outputs": [],
   "source": [
    "# > to pickle\n",
    "main_p[['mp_m', 'mp_c']].to_pickle('./temp/main_p.pkl')"
   ]
  },
  {
   "cell_type": "markdown",
   "metadata": {},
   "source": [
    "### 4.2. Dataset for model development\n",
    "\n",
    "+ *Dataset limpio con campos originales*"
   ]
  },
  {
   "cell_type": "code",
   "execution_count": null,
   "metadata": {},
   "outputs": [],
   "source": [
    "df_clean = pd.read_csv('./temp/data_cleaned.csv')\n",
    "df_clean.head()"
   ]
  },
  {
   "cell_type": "code",
   "execution_count": null,
   "metadata": {},
   "outputs": [],
   "source": [
    "# > obtener campos originales de tabla raw\n",
    "orig_col_length = len(pd.read_csv('./data/casas_data.csv', delimiter=';').columns)\n",
    "print(orig_col_length)"
   ]
  },
  {
   "cell_type": "code",
   "execution_count": null,
   "metadata": {},
   "outputs": [],
   "source": [
    "# > filtrar columnas\n",
    "df_model = df_clean[df_clean.columns[:orig_col_length]]\n",
    "\n",
    "print(df_model.shape)"
   ]
  },
  {
   "cell_type": "code",
   "execution_count": null,
   "metadata": {},
   "outputs": [],
   "source": [
    "# > guardado de datos\n",
    "df_model.to_csv('./temp/data_model.csv', index=False)\n",
    "# del df_model; del df_clean; del df_coor"
   ]
  }
 ],
 "metadata": {
  "interpreter": {
   "hash": "6742c23bd5144b629b95e2f57082e48435998ec215e265d25fc918734a76eaef"
  },
  "kernelspec": {
   "display_name": "Python 3.9.12 ('tallerp')",
   "language": "python",
   "name": "python3"
  },
  "language_info": {
   "codemirror_mode": {
    "name": "ipython",
    "version": 3
   },
   "file_extension": ".py",
   "mimetype": "text/x-python",
   "name": "python",
   "nbconvert_exporter": "python",
   "pygments_lexer": "ipython3",
   "version": "3.9.12"
  }
 },
 "nbformat": 4,
 "nbformat_minor": 2
}
